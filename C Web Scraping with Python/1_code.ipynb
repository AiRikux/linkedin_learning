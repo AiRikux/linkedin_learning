{
 "cells": [
  {
   "cell_type": "markdown",
   "id": "d55ba363",
   "metadata": {},
   "source": [
    "# Hello world with Scrapy"
   ]
  },
  {
   "cell_type": "raw",
   "id": "f9eee0e3",
   "metadata": {},
   "source": [
    "# install scrapy\n",
    "!pip install scrapy"
   ]
  },
  {
   "cell_type": "markdown",
   "id": "afb516b8",
   "metadata": {},
   "source": [
    "We will be scraping pythonscraping.com/linkedin/ietf.html"
   ]
  },
  {
   "cell_type": "code",
   "execution_count": null,
   "id": "f840d504",
   "metadata": {},
   "outputs": [],
   "source": []
  }
 ],
 "metadata": {
  "kernelspec": {
   "display_name": "Python 3 (ipykernel)",
   "language": "python",
   "name": "python3"
  },
  "language_info": {
   "codemirror_mode": {
    "name": "ipython",
    "version": 3
   },
   "file_extension": ".py",
   "mimetype": "text/x-python",
   "name": "python",
   "nbconvert_exporter": "python",
   "pygments_lexer": "ipython3",
   "version": "3.9.7"
  }
 },
 "nbformat": 4,
 "nbformat_minor": 5
}
